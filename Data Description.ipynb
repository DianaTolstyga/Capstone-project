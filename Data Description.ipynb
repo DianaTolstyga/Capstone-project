{
    "cells": [
        {
            "cell_type": "markdown",
            "metadata": {
                "collapsed": true
            },
            "source": "### Coursera Capstone Data Science Project\n#### Selection of a European city for a living. \n\n#### By Diana Tolstyga\n### 1. Introduction to the business problem.\nWe are a family of three (husband, wife, three y.o. kid) from Torronto planning to move to Europe. Occasionally we have got three job offers: at London (UK), Amsterdam (Netherlands), and Paris (France) and need to decide which city to choose for a living. For now, each city looks equally attractive to us: expecting salary, way of living, language, climate, culture, education, medicine - all these ascpects are comparable to us across these three places and does not help us to make the right decision. The only thing that helps to decide where to move - is its downtown's infrastructure: number of interesting velues (sights, restaurants, children activities, sport centers) that makes our life comfortable and full. The Foursquare data will help us to identify all these places and make the final decision by comparing the results for all three cities.  \n\nAll these three cities are being very attractive for young well-educated STEM ex-pats who want to immigrate to Europe and the Data Science project is ment to help that group of people in making the right choice. \n \n\n"
        },
        {
            "cell_type": "markdown",
            "metadata": {},
            "source": "### 2. Data\n\nWe will explore only 3-5 downtown neighbourhoods for each city. The reason for such limitation is:\n(a) all companies that made job offers to us are located at the very center of each city;\n(b) we are not interested to spend out time/money for a commute;\n(c) we want to enjoy historical sights walking around the places concentrated at the downtown.\n\nTo get those neighbourhoods (incl. longitide/latitude) we manually have to gether data for:\n\n#### 2.1. London:\nTop boroughs are taken around  Buckingham Palace which is the location of the potential office in London. \nLongitude/latitude is taken from google.maps i.e. https://www.google.com/maps/place/Carnaby,+London,+UK/@51.5132335,-0.139567,18z/data=!3m1!4b1!4m13!1m7!3m6!1s0x47d8a00baf21de75:0x52963a5addd52a99!2sLondon,+UK!3b1!8m2!3d51.5073509!4d-0.1277583!3m4!1s0x487604d51a524419:0x1f4787f88a9cfcb0!8m2!3d51.513283!4d-0.1383859 \n\n \n"
        },
        {
            "cell_type": "code",
            "execution_count": 17,
            "metadata": {},
            "outputs": [],
            "source": "# The code was removed by Watson Studio for sharing."
        },
        {
            "cell_type": "code",
            "execution_count": 14,
            "metadata": {},
            "outputs": [
                {
                    "data": {
                        "text/html": "<div>\n<style scoped>\n    .dataframe tbody tr th:only-of-type {\n        vertical-align: middle;\n    }\n\n    .dataframe tbody tr th {\n        vertical-align: top;\n    }\n\n    .dataframe thead th {\n        text-align: right;\n    }\n</style>\n<table border=\"1\" class=\"dataframe\">\n  <thead>\n    <tr style=\"text-align: right;\">\n      <th></th>\n      <th>Borough</th>\n      <th>Borough\\nLocal name</th>\n      <th>Neighbourhood</th>\n      <th>Latitude</th>\n      <th>Longitude</th>\n    </tr>\n  </thead>\n  <tbody>\n    <tr>\n      <th>0</th>\n      <td>Mayfair</td>\n      <td>Mayfair</td>\n      <td>Mayfair</td>\n      <td>51.510314</td>\n      <td>-0.147814</td>\n    </tr>\n    <tr>\n      <th>1</th>\n      <td>Knightsbridge</td>\n      <td>Knightsbridge</td>\n      <td>Knightsbridge</td>\n      <td>51.499878</td>\n      <td>-0.167863</td>\n    </tr>\n    <tr>\n      <th>2</th>\n      <td>Kensington</td>\n      <td>Kensington</td>\n      <td>Kensington</td>\n      <td>51.498138</td>\n      <td>-0.192754</td>\n    </tr>\n    <tr>\n      <th>3</th>\n      <td>Covent Garden</td>\n      <td>Covent Garden</td>\n      <td>Covent Garden</td>\n      <td>51.512428</td>\n      <td>-0.123448</td>\n    </tr>\n    <tr>\n      <th>4</th>\n      <td>Carnaby</td>\n      <td>Carnaby</td>\n      <td>Carnaby</td>\n      <td>51.513142</td>\n      <td>-0.138690</td>\n    </tr>\n  </tbody>\n</table>\n</div>",
                        "text/plain": "         Borough Borough\\nLocal name  Neighbourhood   Latitude  Longitude\n0       Mayfair             Mayfair        Mayfair   51.510314  -0.147814\n1  Knightsbridge       Knightsbridge  Knightsbridge  51.499878  -0.167863\n2     Kensington          Kensington     Kensington  51.498138  -0.192754\n3  Covent Garden       Covent Garden  Covent Garden  51.512428  -0.123448\n4        Carnaby             Carnaby        Carnaby  51.513142  -0.138690"
                    },
                    "execution_count": 14,
                    "metadata": {},
                    "output_type": "execute_result"
                }
            ],
            "source": "\nbody = client_9d00dfa24a6b44fc9f1d74f8feec54a9.get_object(Bucket='courseracapstone-donotdelete-pr-6zibsndebcx2mf',Key='London.csv')['Body']\n# add missing __iter__ method, so pandas accepts body as file-like object\nif not hasattr(body, \"__iter__\"): body.__iter__ = types.MethodType( __iter__, body )\n\ndf_data_3 = pd.read_csv(body)\ndf_data_3.dropna(axis=1, inplace=True)\ndf_data_3.head()\n"
        },
        {
            "cell_type": "markdown",
            "metadata": {},
            "source": "\n\n#### 2.2. Amtserdam:\nTop boroughs are taken from Trip advisor: https://www.tripadvisor.com/NeighborhoodList-g188590-Amsterdam_North_Holland_Province.html#MAPVIEW\nSelected neighbourhood for each borough is taken from postcode site: https://postcode.site/noord-holland/municipality/amsterdam/district/grachtengordel-west\nLongitude/latitude for each neighborhood is taken from gogle.maps i.e. https://www.google.com/maps/place/Grachtengordel,+Amsterdam,+Netherlands/@52.3706393,4.8845172,16z/data=!4m5!3m4!1s0x47c609c174cc38ed:0xa9bdbf3f1ac855f9!8m2!3d52.3655774!4d4.8893609\n\n \n\n"
        },
        {
            "cell_type": "code",
            "execution_count": 18,
            "metadata": {},
            "outputs": [
                {
                    "data": {
                        "text/html": "<div>\n<style scoped>\n    .dataframe tbody tr th:only-of-type {\n        vertical-align: middle;\n    }\n\n    .dataframe tbody tr th {\n        vertical-align: top;\n    }\n\n    .dataframe thead th {\n        text-align: right;\n    }\n</style>\n<table border=\"1\" class=\"dataframe\">\n  <thead>\n    <tr style=\"text-align: right;\">\n      <th></th>\n      <th>Borough</th>\n      <th>Borough\\nLocal name</th>\n      <th>Neighbourhood</th>\n      <th>Latitude</th>\n      <th>Longitude</th>\n    </tr>\n  </thead>\n  <tbody>\n    <tr>\n      <th>0</th>\n      <td>Canal Ring</td>\n      <td>Grachtengordel</td>\n      <td>Felix Meritisbuurt</td>\n      <td>52.369860</td>\n      <td>4.885504</td>\n    </tr>\n    <tr>\n      <th>1</th>\n      <td>The Jordaan</td>\n      <td>Jordaan</td>\n      <td>Elandsgrachtbuurt</td>\n      <td>52.375380</td>\n      <td>4.880826</td>\n    </tr>\n    <tr>\n      <th>2</th>\n      <td>Museum Quarter</td>\n      <td>Museumkwartier</td>\n      <td>Concertgebouwbuurt</td>\n      <td>52.355504</td>\n      <td>4.882079</td>\n    </tr>\n  </tbody>\n</table>\n</div>",
                        "text/plain": "          Borough Borough\\nLocal name       Neighbourhood   Latitude  \\\n0      Canal Ring      Grachtengordel  Felix Meritisbuurt  52.369860   \n1     The Jordaan             Jordaan   Elandsgrachtbuurt  52.375380   \n2  Museum Quarter      Museumkwartier  Concertgebouwbuurt  52.355504   \n\n   Longitude  \n0   4.885504  \n1   4.880826  \n2   4.882079  "
                    },
                    "execution_count": 18,
                    "metadata": {},
                    "output_type": "execute_result"
                }
            ],
            "source": "body = client_9d00dfa24a6b44fc9f1d74f8feec54a9.get_object(Bucket='courseracapstone-donotdelete-pr-6zibsndebcx2mf',Key='Amsterdam.csv')['Body']\n# add missing __iter__ method, so pandas accepts body as file-like object\nif not hasattr(body, \"__iter__\"): body.__iter__ = types.MethodType( __iter__, body )\n\ndf_data_2 = pd.read_csv(body)\ndf_data_2.dropna(axis=1, inplace=True)\ndf_data_2.head()\n"
        },
        {
            "cell_type": "markdown",
            "metadata": {},
            "source": "#### 2.3. Paris:\nTop neighbourhoods are taken from: https://www.parisinsidersguide.com/paris-neighborhoods.html\nLongitude/Latitude of each neighbourhood is taken from google.maps i.e. https://www.google.com/maps/place/Creperie+and+Kiosk/@48.8543865,2.2912227,15z/data=!4m13!1m7!3m6!1s0x47e6701f7e8337b5:0xa2cb58dd28914524!2sEiffel+Tower,+Paris,+France!3b1!8m2!3d48.8560934!4d2.2930458!3m4!1s0x47e67021d1798475:0xb0cabfbe65e34c5e!8m2!3d48.8544282!4d2.2999573\n\n\n\n"
        },
        {
            "cell_type": "code",
            "execution_count": 13,
            "metadata": {},
            "outputs": [
                {
                    "data": {
                        "text/html": "<div>\n<style scoped>\n    .dataframe tbody tr th:only-of-type {\n        vertical-align: middle;\n    }\n\n    .dataframe tbody tr th {\n        vertical-align: top;\n    }\n\n    .dataframe thead th {\n        text-align: right;\n    }\n</style>\n<table border=\"1\" class=\"dataframe\">\n  <thead>\n    <tr style=\"text-align: right;\">\n      <th></th>\n      <th>Borough</th>\n      <th>Borough\\nLocal name</th>\n      <th>Neighbourhood</th>\n      <th>Latitude</th>\n      <th>Longitude</th>\n    </tr>\n  </thead>\n  <tbody>\n    <tr>\n      <th>0</th>\n      <td>Eiffel Tower</td>\n      <td>Eiffel Tower</td>\n      <td>Eiffel Tower</td>\n      <td>48.853684</td>\n      <td>2.301351</td>\n    </tr>\n    <tr>\n      <th>1</th>\n      <td>The Heart</td>\n      <td>1st arrondissement of Paris</td>\n      <td>2nd arrondissement of Paris</td>\n      <td>48.863698</td>\n      <td>2.335927</td>\n    </tr>\n    <tr>\n      <th>2</th>\n      <td>Marais</td>\n      <td>Le Marais</td>\n      <td>Le Marais</td>\n      <td>48.858677</td>\n      <td>2.360471</td>\n    </tr>\n    <tr>\n      <th>3</th>\n      <td>Latin Quarter</td>\n      <td>Quartier latin</td>\n      <td>Quartier latin</td>\n      <td>48.847843</td>\n      <td>2.353432</td>\n    </tr>\n    <tr>\n      <th>4</th>\n      <td>St. Germain</td>\n      <td>Saint-Germain-des-Pr\u00e9s</td>\n      <td>Saint-Germain-des-Pr\u00e9s</td>\n      <td>48.853890</td>\n      <td>2.334440</td>\n    </tr>\n  </tbody>\n</table>\n</div>",
                        "text/plain": "         Borough          Borough\\nLocal name                Neighbourhood  \\\n0   Eiffel Tower                 Eiffel Tower                 Eiffel Tower   \n1      The Heart  1st arrondissement of Paris  2nd arrondissement of Paris   \n2         Marais                    Le Marais                    Le Marais   \n3  Latin Quarter               Quartier latin               Quartier latin   \n4    St. Germain       Saint-Germain-des-Pr\u00e9s       Saint-Germain-des-Pr\u00e9s   \n\n    Latitude  Longitude  \n0  48.853684   2.301351  \n1  48.863698   2.335927  \n2  48.858677   2.360471  \n3  48.847843   2.353432  \n4  48.853890   2.334440  "
                    },
                    "execution_count": 13,
                    "metadata": {},
                    "output_type": "execute_result"
                }
            ],
            "source": "\nbody = client_9d00dfa24a6b44fc9f1d74f8feec54a9.get_object(Bucket='courseracapstone-donotdelete-pr-6zibsndebcx2mf',Key='Paris.csv')['Body']\n# add missing __iter__ method, so pandas accepts body as file-like object\nif not hasattr(body, \"__iter__\"): body.__iter__ = types.MethodType( __iter__, body )\n\ndf_data_4 = pd.read_csv(body)\ndf_data_4.dropna(axis=1, inplace=True)\ndf_data_4.head()\n"
        },
        {
            "cell_type": "markdown",
            "metadata": {},
            "source": "To get top venues for each neighbourhood of the city, we will use Foursquare datawhich will include places of interest, its location, and venue category for each selected neighbourhood which then will be used to rate each category based on our interest, count a rating of each neighborhood and make a final decision. \n\nFor the visualization we will use json files for each city that displayed neighbourhood boundaries; \nfor London: https://data.london.gov.uk/dataset/statistical-gis-boundary-files-london?resource=9ba8c833-6370-4b11-abdc-314aa020d5e0\nfor Amsterdam: http://insideairbnb.com/get-the-data.html\nfor Paris: https://github.com/natzar/European-Neighborhoods-Json-Coords\n\n### 3. Methodology\n We will use cluster analysis to pick up the most attractive neigbourhood in each of three cities. Then to decide which city is better wi will use venue's ranking approach. To do that we take all venues categories from the Foursquare and manually ranking them based on our preferences from 1 to 10 i.e. category \"bank\" is assigned with rank \"3\" as we do not use bank offices often while \"coffee-shop\" will have a rank \"7\" as we like coffee etc. That city whose neighbourhood will get the highest score will be selected for a living.\n"
        }
    ],
    "metadata": {
        "kernelspec": {
            "display_name": "Python 3.7",
            "language": "python",
            "name": "python3"
        },
        "language_info": {
            "codemirror_mode": {
                "name": "ipython",
                "version": 3
            },
            "file_extension": ".py",
            "mimetype": "text/x-python",
            "name": "python",
            "nbconvert_exporter": "python",
            "pygments_lexer": "ipython3",
            "version": "3.7.9"
        }
    },
    "nbformat": 4,
    "nbformat_minor": 1
}